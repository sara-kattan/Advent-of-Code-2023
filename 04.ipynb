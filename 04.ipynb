{
 "cells": [
  {
   "cell_type": "code",
   "execution_count": 35,
   "metadata": {},
   "outputs": [],
   "source": [
    "with open('04.txt', 'r') as f:\n",
    "    lines = f.readlines()\n",
    "    lines = [line.strip() for line in lines]"
   ]
  },
  {
   "cell_type": "markdown",
   "metadata": {},
   "source": [
    "### Part 1"
   ]
  },
  {
   "cell_type": "code",
   "execution_count": 33,
   "metadata": {},
   "outputs": [],
   "source": [
    "def match (left, right): \n",
    "    left = set(left)\n",
    "    right = set(right)\n",
    "    common  = list(left.intersection(right))\n",
    "    return len(common)"
   ]
  },
  {
   "cell_type": "code",
   "execution_count": 23,
   "metadata": {},
   "outputs": [
    {
     "name": "stdout",
     "output_type": "stream",
     "text": [
      "21485\n"
     ]
    }
   ],
   "source": [
    "total = 0 \n",
    "for line in  lines:\n",
    "    cards = line.split(':')[1]\n",
    "    game_pt = match(cards.split('|')[0].strip().split(), cards.split('|')[1].strip().split())\n",
    "    if game_pt != 0:\n",
    "        total += pow(2, game_pt-1)\n",
    "print(total)"
   ]
  },
  {
   "cell_type": "markdown",
   "metadata": {},
   "source": [
    "### Part 2"
   ]
  },
  {
   "cell_type": "code",
   "execution_count": 36,
   "metadata": {},
   "outputs": [
    {
     "name": "stdout",
     "output_type": "stream",
     "text": [
      "11024379\n"
     ]
    }
   ],
   "source": [
    "count = [1]*len(lines)\n",
    "for i, line in enumerate(lines):\n",
    "    cards = line.split(':')[1]\n",
    "    game_pt = match(cards.split('|')[0].strip().split(), cards.split('|')[1].strip().split())\n",
    "    for pt in range(game_pt):\n",
    "        count[pt+i+1] = count[i] + count[pt+i+1]\n",
    "print(sum(count))"
   ]
  }
 ],
 "metadata": {
  "kernelspec": {
   "display_name": "Python 3",
   "language": "python",
   "name": "python3"
  },
  "language_info": {
   "codemirror_mode": {
    "name": "ipython",
    "version": 3
   },
   "file_extension": ".py",
   "mimetype": "text/x-python",
   "name": "python",
   "nbconvert_exporter": "python",
   "pygments_lexer": "ipython3",
   "version": "3.11.6"
  }
 },
 "nbformat": 4,
 "nbformat_minor": 2
}
