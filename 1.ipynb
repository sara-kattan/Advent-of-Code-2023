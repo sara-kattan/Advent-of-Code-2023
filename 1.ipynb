{
 "cells": [
  {
   "cell_type": "code",
   "execution_count": 20,
   "metadata": {},
   "outputs": [],
   "source": [
    "# read all elemnt in text file in list\n",
    "with open('01.txt', 'r') as f:\n",
    "    lines = f.readlines()\n",
    "    lines = [line.strip() for line in lines]"
   ]
  },
  {
   "cell_type": "markdown",
   "metadata": {},
   "source": [
    "### Part 1"
   ]
  },
  {
   "cell_type": "code",
   "execution_count": 2,
   "metadata": {},
   "outputs": [
    {
     "name": "stdout",
     "output_type": "stream",
     "text": [
      "56465\n"
     ]
    }
   ],
   "source": [
    "number = 0\n",
    "for line in lines:\n",
    "    characters =  [x for x in line]\n",
    "    numbers = [int(x) for x in characters if x.isdigit()] \n",
    "    calc = 10*int(numbers[0]) + int(numbers[-1])\n",
    "    number += calc\n",
    "print(number)"
   ]
  },
  {
   "cell_type": "markdown",
   "metadata": {},
   "source": [
    "### Part 2"
   ]
  },
  {
   "cell_type": "code",
   "execution_count": 42,
   "metadata": {},
   "outputs": [
    {
     "name": "stdout",
     "output_type": "stream",
     "text": [
      "55902\n"
     ]
    }
   ],
   "source": [
    "to_find = ['one' , 'two', 'three', 'four', 'five', 'six', 'seven', 'eight', 'nine', '1','2', '3', '4','5','6','7','8','9']\n",
    "dict_to_find = {'one':1 , 'two':2, 'three':3, 'four':4, 'five':5, 'six':6, 'seven':7, 'eight':8, 'nine':9, '1':1,'2':2, '3':3, '4':4,'5':5,'6':6,'7':7,'8':8,'9':9}\n",
    "number = 0\n",
    "for line in lines:\n",
    "    location = []\n",
    "    for element in to_find: \n",
    "        if line.find(element) != -1: \n",
    "            location.append((line.find(element),element))\n",
    "            location.append((line.rfind(element),element))\n",
    "    location.sort()\n",
    "    min = location[0] \n",
    "    max = location[-1]\n",
    "    number += dict_to_find[min[1]]*10+ dict_to_find[max[1]]\n",
    "print(number)"
   ]
  }
 ],
 "metadata": {
  "kernelspec": {
   "display_name": "Python 3",
   "language": "python",
   "name": "python3"
  },
  "language_info": {
   "codemirror_mode": {
    "name": "ipython",
    "version": 3
   },
   "file_extension": ".py",
   "mimetype": "text/x-python",
   "name": "python",
   "nbconvert_exporter": "python",
   "pygments_lexer": "ipython3",
   "version": "3.11.6"
  }
 },
 "nbformat": 4,
 "nbformat_minor": 2
}
