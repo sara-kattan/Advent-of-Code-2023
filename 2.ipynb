{
 "cells": [
  {
   "cell_type": "code",
   "execution_count": 6,
   "metadata": {},
   "outputs": [],
   "source": [
    "import math\n",
    "with open('2.txt', 'r') as f:\n",
    "    lines = f.readlines()\n",
    "    lines = [line.strip() for line in lines]"
   ]
  },
  {
   "cell_type": "code",
   "execution_count": 10,
   "metadata": {},
   "outputs": [],
   "source": [
    "def possible(option, configuration):\n",
    "    cubes = option.split(',')\n",
    "    for cube in cubes:\n",
    "        cube = cube.strip()\n",
    "        number, color = cube.split(' ')\n",
    "        if configuration[color] < int(number):\n",
    "            return False\n",
    "    return True"
   ]
  },
  {
   "cell_type": "code",
   "execution_count": 11,
   "metadata": {},
   "outputs": [
    {
     "name": "stdout",
     "output_type": "stream",
     "text": [
      "2164\n"
     ]
    }
   ],
   "source": [
    "number = 0\n",
    "configuration = {'red': 12, 'blue': 14, 'green': 13}\n",
    "for i, line in enumerate(lines):\n",
    "    options = line.split(':')[1]  \n",
    "    possible_options = []\n",
    "    for option in options.split(';'):\n",
    "        possible_options.append(possible(option, configuration))\n",
    "    if all(possible_options):\n",
    "        number += (i + 1)\n",
    "print(number)"
   ]
  },
  {
   "cell_type": "code",
   "execution_count": 13,
   "metadata": {},
   "outputs": [],
   "source": [
    "def get_minimum(option, min_numbers):\n",
    "    cubes = option.split(',')\n",
    "    for cube in cubes:\n",
    "        cube = cube.strip()\n",
    "        number, color = cube.split(' ')\n",
    "        if min_numbers[color] < int(number):\n",
    "            min_numbers[color] = int(number)\n",
    "    "
   ]
  },
  {
   "cell_type": "code",
   "execution_count": 17,
   "metadata": {},
   "outputs": [
    {
     "name": "stdout",
     "output_type": "stream",
     "text": [
      "69929\n"
     ]
    }
   ],
   "source": [
    "number = 0\n",
    "for i, line in enumerate(lines):\n",
    "    options = line.split(':')[1]\n",
    "    min_numbers = {'red':0, 'blue':0, 'green':0}\n",
    "    for option in options.split(';'):\n",
    "        get_minimum(option, min_numbers)\n",
    "    values = [*min_numbers.values()]\n",
    "    number += math.prod(values)\n",
    "print(number)"
   ]
  }
 ],
 "metadata": {
  "kernelspec": {
   "display_name": "Python 3",
   "language": "python",
   "name": "python3"
  },
  "language_info": {
   "codemirror_mode": {
    "name": "ipython",
    "version": 3
   },
   "file_extension": ".py",
   "mimetype": "text/x-python",
   "name": "python",
   "nbconvert_exporter": "python",
   "pygments_lexer": "ipython3",
   "version": "3.11.6"
  }
 },
 "nbformat": 4,
 "nbformat_minor": 2
}
