{
 "cells": [
  {
   "cell_type": "code",
   "execution_count": 1,
   "metadata": {},
   "outputs": [],
   "source": [
    "with open('06.txt', 'r') as f:\n",
    "    lines = f.readlines()\n",
    "    lines = [line.strip() for line in lines]"
   ]
  },
  {
   "cell_type": "code",
   "execution_count": 20,
   "metadata": {},
   "outputs": [],
   "source": [
    "time = lines[0].split(':')[1].strip().split()\n",
    "distance = lines[1].split(':')[1].strip().split()\n",
    "# concatinate all the elements in time and distance\n",
    "all_time = int(''.join(time))\n",
    "all_distance = int(''.join(distance))\n",
    "time = [int(x) for x in time]\n",
    "distance = [int(x) for x in distance]"
   ]
  },
  {
   "cell_type": "code",
   "execution_count": 22,
   "metadata": {},
   "outputs": [],
   "source": [
    "import math\n",
    "import numpy\n",
    "\n",
    "def solutions(time, distance):\n",
    "    x1 = math.floor((-time + (time**2 - 4*distance)**0.5) / (2))\n",
    "    x2 = math.ceil((-time - (time**2 - 4*distance)**0.5) / (2))\n",
    "    return x1 - x2 + 1"
   ]
  },
  {
   "cell_type": "code",
   "execution_count": 27,
   "metadata": {},
   "outputs": [
    {
     "name": "stdout",
     "output_type": "stream",
     "text": [
      "part 1 2344708\n",
      "part 2 30125202\n"
     ]
    }
   ],
   "source": [
    "solutions_list = []\n",
    "for i in range(len(time)):\n",
    "    solutions_list.append(solutions(time[i], distance[i]))\n",
    "total = numpy.prod(solutions_list)\n",
    "print(\"part 1 \" + str(total))\n",
    "print(\"part 2 \" + str(solutions(all_time, all_distance)))"
   ]
  }
 ],
 "metadata": {
  "kernelspec": {
   "display_name": "Python 3",
   "language": "python",
   "name": "python3"
  },
  "language_info": {
   "codemirror_mode": {
    "name": "ipython",
    "version": 3
   },
   "file_extension": ".py",
   "mimetype": "text/x-python",
   "name": "python",
   "nbconvert_exporter": "python",
   "pygments_lexer": "ipython3",
   "version": "3.11.7"
  }
 },
 "nbformat": 4,
 "nbformat_minor": 2
}
