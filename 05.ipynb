{
 "cells": [
  {
   "cell_type": "code",
   "execution_count": 2,
   "metadata": {},
   "outputs": [],
   "source": [
    "with open('05.txt', 'r') as f:\n",
    "    lines = f.readlines()\n",
    "    lines = [line.strip() for line in lines]"
   ]
  },
  {
   "cell_type": "code",
   "execution_count": 3,
   "metadata": {},
   "outputs": [],
   "source": [
    "# split array into array of arrays depending on \"\"\n",
    "groups = []\n",
    "group = []\n",
    "for line in lines:\n",
    "    if line == \"\":\n",
    "        groups.append(group)\n",
    "        group = []\n",
    "    else:\n",
    "        group.append(line)\n",
    "groups.append(group)"
   ]
  },
  {
   "cell_type": "code",
   "execution_count": 4,
   "metadata": {},
   "outputs": [],
   "source": [
    "seeds = groups[0][0].split(\":\")[1].strip().split()"
   ]
  },
  {
   "cell_type": "code",
   "execution_count": 5,
   "metadata": {},
   "outputs": [],
   "source": [
    "def parse_mapping(mapping, seed):\n",
    "    rule = mapping[1:]\n",
    "    rule = [i.split() for i in rule]\n",
    "    map = {}\n",
    "    for r in rule:\n",
    "        if int(r[1]) <= seed <= int(r[1]) + int(r[2]):\n",
    "            return int(r[0]) + (seed - int(r[1]))\n",
    "    return seed"
   ]
  },
  {
   "cell_type": "code",
   "execution_count": 6,
   "metadata": {},
   "outputs": [
    {
     "data": {
      "text/plain": [
       "35"
      ]
     },
     "execution_count": 6,
     "metadata": {},
     "output_type": "execute_result"
    }
   ],
   "source": [
    "location = []\n",
    "categories = groups[1:]\n",
    "for seed in seeds:\n",
    "    trace = int(seed)\n",
    "    for category in categories:\n",
    "        trace = parse_mapping(category, trace)\n",
    "    location.append(trace)\n",
    "\n",
    "# sum all elements in location \n",
    "min(location)"
   ]
  },
  {
   "cell_type": "code",
   "execution_count": 8,
   "metadata": {},
   "outputs": [
    {
     "data": {
      "text/plain": [
       "['seed-to-soil map:', '50 98 2', '52 50 48']"
      ]
     },
     "execution_count": 8,
     "metadata": {},
     "output_type": "execute_result"
    }
   ],
   "source": [
    "def get_range(mapping, seed, jump):\n",
    "    rule = mapping[1:]\n",
    "    rule = [i.split() for i in rule]\n",
    "    map = {}\n",
    "    for r in rule: \n",
    "        if int(r[1]) <= seed <= int(r[1]) + int(r[2]):\n",
    "            return int(r[0]) + (seed - int(r[1]))\n",
    "    return seed"
   ]
  },
  {
   "cell_type": "code",
   "execution_count": 7,
   "metadata": {},
   "outputs": [
    {
     "data": {
      "text/plain": [
       "['79', '14', '55', '13']"
      ]
     },
     "execution_count": 7,
     "metadata": {},
     "output_type": "execute_result"
    }
   ],
   "source": [
    "seeds"
   ]
  },
  {
   "cell_type": "code",
   "execution_count": 19,
   "metadata": {},
   "outputs": [],
   "source": [
    "# we need to transform the seed to a range\n",
    "new_seeds = []\n",
    "for i in range(len(seeds)):\n",
    "    if i % 2 == 0:\n",
    "        for j in range(int(seeds[i+1])):\n",
    "            new_seeds.append(int(seeds[i]) + j)\n",
    "\n",
    "            "
   ]
  }
 ],
 "metadata": {
  "kernelspec": {
   "display_name": "Python 3",
   "language": "python",
   "name": "python3"
  },
  "language_info": {
   "codemirror_mode": {
    "name": "ipython",
    "version": 3
   },
   "file_extension": ".py",
   "mimetype": "text/x-python",
   "name": "python",
   "nbconvert_exporter": "python",
   "pygments_lexer": "ipython3",
   "version": "3.11.7"
  }
 },
 "nbformat": 4,
 "nbformat_minor": 2
}
