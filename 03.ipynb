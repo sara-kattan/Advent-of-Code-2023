{
 "cells": [
  {
   "cell_type": "code",
   "execution_count": 186,
   "metadata": {},
   "outputs": [],
   "source": [
    "with open('03.txt', 'r') as f:\n",
    "    lines = f.readlines()\n",
    "    lines = [line.strip() for line in lines]"
   ]
  },
  {
   "cell_type": "code",
   "execution_count": 187,
   "metadata": {},
   "outputs": [],
   "source": [
    "import re\n",
    "special_characters = ['!','@','#','$','%','^','&','*','(',')','-','+','?','_','=','<','>','/']"
   ]
  },
  {
   "cell_type": "code",
   "execution_count": 188,
   "metadata": {},
   "outputs": [],
   "source": [
    "def find(s, ch):\n",
    "    return [i for i, ltr in enumerate(s) if ltr == ch]"
   ]
  },
  {
   "cell_type": "code",
   "execution_count": 194,
   "metadata": {},
   "outputs": [],
   "source": [
    "positions = [] \n",
    "target = []\n",
    "for i, line in enumerate(lines):\n",
    "    numbers = re.findall(r'\\d+', line)\n",
    "    for number in numbers:\n",
    "        all_ocurance = [m.start() for m in re.finditer(number, line)]\n",
    "        for occurance in all_ocurance:\n",
    "            if occurance == 0 and (line[occurance+len(number)].isdigit() == False):\n",
    "                positions.append((i, occurance, occurance + len(number)-1, number))\n",
    "            elif occurance+len(number) == len(line) and (line[occurance-1].isdigit() == False):\n",
    "                positions.append((i, occurance, occurance + len(number)-1, number))\n",
    "            elif (line[occurance-1].isdigit() or line[occurance+len(number)].isdigit()) == False:   \n",
    "                positions.append((i, occurance, occurance + len(number)-1, number))\n",
    "    for character in special_characters:\n",
    "        locations = find(line, character)\n",
    "        if locations:\n",
    "            for location in locations:\n",
    "                target.append((i, location, character))\n",
    "positions = list(set(positions))\n",
    "positions.sort()\n",
    "target = list(set(target))\n",
    "target.sort()\n",
    "target = [target[i] for i in range(len(target)) if target[i][1] != -1]"
   ]
  },
  {
   "cell_type": "code",
   "execution_count": 195,
   "metadata": {},
   "outputs": [
    {
     "name": "stdout",
     "output_type": "stream",
     "text": [
      "537832\n"
     ]
    }
   ],
   "source": [
    "# counted cells\n",
    "numbers = []\n",
    "for t in target:\n",
    "    for p in positions:\n",
    "        if t[0] - 1 <= p[0] <= t[0] + 1 and  ((p[1] >= t[1] - len(p[3])) and (p[2] <= t[1] + len(p[3]))) :\n",
    "            numbers.append(p)\n",
    "numbers = list(set(numbers))\n",
    "result = 0\n",
    "for number in numbers:\n",
    "    result += int(number[3])\n",
    "print(result)"
   ]
  },
  {
   "cell_type": "code",
   "execution_count": 197,
   "metadata": {},
   "outputs": [
    {
     "name": "stdout",
     "output_type": "stream",
     "text": [
      "81939900\n"
     ]
    }
   ],
   "source": [
    "# counted cells\n",
    "numbers = []\n",
    "gear_ratio = 0\n",
    "for t in target:\n",
    "    if t[2] == '*':\n",
    "        numbers = []\n",
    "        for p in positions:\n",
    "            if t[0] - 1 <= p[0] <= t[0] + 1 and  ((p[1] >= t[1] - len(p[3])) and (p[2] <= t[1] + len(p[3]))) :\n",
    "                numbers.append(p)\n",
    "        if len(numbers) == 2:\n",
    "            gear_ratio += int(numbers[0][3])* int(numbers[1][3])\n",
    "print(gear_ratio)"
   ]
  }
 ],
 "metadata": {
  "kernelspec": {
   "display_name": "Python 3",
   "language": "python",
   "name": "python3"
  },
  "language_info": {
   "codemirror_mode": {
    "name": "ipython",
    "version": 3
   },
   "file_extension": ".py",
   "mimetype": "text/x-python",
   "name": "python",
   "nbconvert_exporter": "python",
   "pygments_lexer": "ipython3",
   "version": "3.11.7"
  }
 },
 "nbformat": 4,
 "nbformat_minor": 2
}
